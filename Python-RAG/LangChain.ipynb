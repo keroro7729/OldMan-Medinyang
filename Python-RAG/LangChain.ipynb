{
 "cells": [
  {
   "cell_type": "code",
   "execution_count": 1,
   "id": "956fd392",
   "metadata": {},
   "outputs": [
    {
     "name": "stdout",
     "output_type": "stream",
     "text": [
      "Requirement already satisfied: python-dotenv in c:\\users\\kanda\\anaconda3\\envs\\firstvenv\\lib\\site-packages (1.1.0)\n"
     ]
    }
   ],
   "source": [
    "! pip3 install python-dotenv"
   ]
  },
  {
   "cell_type": "code",
   "execution_count": 9,
   "id": "e07cb7a6",
   "metadata": {},
   "outputs": [
    {
     "data": {
      "text/plain": [
       "True"
      ]
     },
     "execution_count": 9,
     "metadata": {},
     "output_type": "execute_result"
    }
   ],
   "source": [
    "# API 키를 환경변수로 관리하기 위한 설정 파일\n",
    "from dotenv import load_dotenv\n",
    "\n",
    "# API 키 정보 로드\n",
    "load_dotenv()"
   ]
  },
  {
   "cell_type": "code",
   "execution_count": null,
   "id": "2216f3fe",
   "metadata": {},
   "outputs": [],
   "source": [
    "import os\n",
    "\n",
    "os.environ[\"LANGCHAIN_TRACING_V2\"] = \"true\"\n",
    "os.environ[\"LANGCHAIN_ENDPOINT\"] = \"https://api.smith.langchain.com\"\n",
    "os.environ[\"LANGCHAIN_PROJECT\"] = \"김지훈\"\n",
    "os.environ[\"LANGCHAIN_API_KEY\"] = \"\""
   ]
  },
  {
   "cell_type": "code",
   "execution_count": 11,
   "id": "b2b85aec",
   "metadata": {},
   "outputs": [
    {
     "name": "stdout",
     "output_type": "stream",
     "text": [
      "Requirement already satisfied: langchain_text_splitters in c:\\users\\kanda\\anaconda3\\envs\\firstvenv\\lib\\site-packages (0.3.8)\n",
      "Requirement already satisfied: langchain_community in c:\\users\\kanda\\anaconda3\\envs\\firstvenv\\lib\\site-packages (0.3.24)\n",
      "Requirement already satisfied: langchain_openai in c:\\users\\kanda\\anaconda3\\envs\\firstvenv\\lib\\site-packages (0.3.18)\n",
      "Requirement already satisfied: pymupdf in c:\\users\\kanda\\anaconda3\\envs\\firstvenv\\lib\\site-packages (1.26.0)\n",
      "Requirement already satisfied: faiss-cpu in c:\\users\\kanda\\anaconda3\\envs\\firstvenv\\lib\\site-packages (1.11.0)\n",
      "Requirement already satisfied: langchain-core<1.0.0,>=0.3.51 in c:\\users\\kanda\\anaconda3\\envs\\firstvenv\\lib\\site-packages (from langchain_text_splitters) (0.3.61)\n",
      "Requirement already satisfied: langchain<1.0.0,>=0.3.25 in c:\\users\\kanda\\anaconda3\\envs\\firstvenv\\lib\\site-packages (from langchain_community) (0.3.25)\n",
      "Requirement already satisfied: SQLAlchemy<3,>=1.4 in c:\\users\\kanda\\anaconda3\\envs\\firstvenv\\lib\\site-packages (from langchain_community) (2.0.41)\n",
      "Requirement already satisfied: requests<3,>=2 in c:\\users\\kanda\\anaconda3\\envs\\firstvenv\\lib\\site-packages (from langchain_community) (2.32.3)\n",
      "Requirement already satisfied: PyYAML>=5.3 in c:\\users\\kanda\\anaconda3\\envs\\firstvenv\\lib\\site-packages (from langchain_community) (6.0.2)\n",
      "Requirement already satisfied: aiohttp<4.0.0,>=3.8.3 in c:\\users\\kanda\\anaconda3\\envs\\firstvenv\\lib\\site-packages (from langchain_community) (3.12.0)\n",
      "Requirement already satisfied: tenacity!=8.4.0,<10,>=8.1.0 in c:\\users\\kanda\\anaconda3\\envs\\firstvenv\\lib\\site-packages (from langchain_community) (9.1.2)\n",
      "Requirement already satisfied: dataclasses-json<0.7,>=0.5.7 in c:\\users\\kanda\\anaconda3\\envs\\firstvenv\\lib\\site-packages (from langchain_community) (0.6.7)\n",
      "Requirement already satisfied: pydantic-settings<3.0.0,>=2.4.0 in c:\\users\\kanda\\anaconda3\\envs\\firstvenv\\lib\\site-packages (from langchain_community) (2.9.1)\n",
      "Requirement already satisfied: langsmith<0.4,>=0.1.125 in c:\\users\\kanda\\anaconda3\\envs\\firstvenv\\lib\\site-packages (from langchain_community) (0.3.42)\n",
      "Requirement already satisfied: httpx-sse<1.0.0,>=0.4.0 in c:\\users\\kanda\\anaconda3\\envs\\firstvenv\\lib\\site-packages (from langchain_community) (0.4.0)\n",
      "Requirement already satisfied: numpy>=2.1.0 in c:\\users\\kanda\\anaconda3\\envs\\firstvenv\\lib\\site-packages (from langchain_community) (2.2.6)\n",
      "Requirement already satisfied: openai<2.0.0,>=1.68.2 in c:\\users\\kanda\\anaconda3\\envs\\firstvenv\\lib\\site-packages (from langchain_openai) (1.82.0)\n",
      "Requirement already satisfied: tiktoken<1,>=0.7 in c:\\users\\kanda\\anaconda3\\envs\\firstvenv\\lib\\site-packages (from langchain_openai) (0.9.0)\n",
      "Requirement already satisfied: packaging in c:\\users\\kanda\\anaconda3\\envs\\firstvenv\\lib\\site-packages (from faiss-cpu) (24.2)\n",
      "Requirement already satisfied: aiohappyeyeballs>=2.5.0 in c:\\users\\kanda\\anaconda3\\envs\\firstvenv\\lib\\site-packages (from aiohttp<4.0.0,>=3.8.3->langchain_community) (2.6.1)\n",
      "Requirement already satisfied: aiosignal>=1.1.2 in c:\\users\\kanda\\anaconda3\\envs\\firstvenv\\lib\\site-packages (from aiohttp<4.0.0,>=3.8.3->langchain_community) (1.3.2)\n",
      "Requirement already satisfied: attrs>=17.3.0 in c:\\users\\kanda\\anaconda3\\envs\\firstvenv\\lib\\site-packages (from aiohttp<4.0.0,>=3.8.3->langchain_community) (25.3.0)\n",
      "Requirement already satisfied: frozenlist>=1.1.1 in c:\\users\\kanda\\anaconda3\\envs\\firstvenv\\lib\\site-packages (from aiohttp<4.0.0,>=3.8.3->langchain_community) (1.6.0)\n",
      "Requirement already satisfied: multidict<7.0,>=4.5 in c:\\users\\kanda\\anaconda3\\envs\\firstvenv\\lib\\site-packages (from aiohttp<4.0.0,>=3.8.3->langchain_community) (6.4.4)\n",
      "Requirement already satisfied: propcache>=0.2.0 in c:\\users\\kanda\\anaconda3\\envs\\firstvenv\\lib\\site-packages (from aiohttp<4.0.0,>=3.8.3->langchain_community) (0.3.1)\n",
      "Requirement already satisfied: yarl<2.0,>=1.17.0 in c:\\users\\kanda\\anaconda3\\envs\\firstvenv\\lib\\site-packages (from aiohttp<4.0.0,>=3.8.3->langchain_community) (1.20.0)\n",
      "Requirement already satisfied: marshmallow<4.0.0,>=3.18.0 in c:\\users\\kanda\\anaconda3\\envs\\firstvenv\\lib\\site-packages (from dataclasses-json<0.7,>=0.5.7->langchain_community) (3.26.1)\n",
      "Requirement already satisfied: typing-inspect<1,>=0.4.0 in c:\\users\\kanda\\anaconda3\\envs\\firstvenv\\lib\\site-packages (from dataclasses-json<0.7,>=0.5.7->langchain_community) (0.9.0)\n",
      "Requirement already satisfied: pydantic<3.0.0,>=2.7.4 in c:\\users\\kanda\\anaconda3\\envs\\firstvenv\\lib\\site-packages (from langchain<1.0.0,>=0.3.25->langchain_community) (2.11.5)\n",
      "Requirement already satisfied: jsonpatch<2.0,>=1.33 in c:\\users\\kanda\\anaconda3\\envs\\firstvenv\\lib\\site-packages (from langchain-core<1.0.0,>=0.3.51->langchain_text_splitters) (1.33)\n",
      "Requirement already satisfied: typing-extensions>=4.7 in c:\\users\\kanda\\anaconda3\\envs\\firstvenv\\lib\\site-packages (from langchain-core<1.0.0,>=0.3.51->langchain_text_splitters) (4.13.2)\n",
      "Requirement already satisfied: httpx<1,>=0.23.0 in c:\\users\\kanda\\anaconda3\\envs\\firstvenv\\lib\\site-packages (from langsmith<0.4,>=0.1.125->langchain_community) (0.28.1)\n",
      "Requirement already satisfied: orjson<4.0.0,>=3.9.14 in c:\\users\\kanda\\anaconda3\\envs\\firstvenv\\lib\\site-packages (from langsmith<0.4,>=0.1.125->langchain_community) (3.10.18)\n",
      "Requirement already satisfied: requests-toolbelt<2.0.0,>=1.0.0 in c:\\users\\kanda\\anaconda3\\envs\\firstvenv\\lib\\site-packages (from langsmith<0.4,>=0.1.125->langchain_community) (1.0.0)\n",
      "Requirement already satisfied: zstandard<0.24.0,>=0.23.0 in c:\\users\\kanda\\anaconda3\\envs\\firstvenv\\lib\\site-packages (from langsmith<0.4,>=0.1.125->langchain_community) (0.23.0)\n",
      "Requirement already satisfied: anyio<5,>=3.5.0 in c:\\users\\kanda\\anaconda3\\envs\\firstvenv\\lib\\site-packages (from openai<2.0.0,>=1.68.2->langchain_openai) (4.9.0)\n",
      "Requirement already satisfied: distro<2,>=1.7.0 in c:\\users\\kanda\\anaconda3\\envs\\firstvenv\\lib\\site-packages (from openai<2.0.0,>=1.68.2->langchain_openai) (1.9.0)\n",
      "Requirement already satisfied: jiter<1,>=0.4.0 in c:\\users\\kanda\\anaconda3\\envs\\firstvenv\\lib\\site-packages (from openai<2.0.0,>=1.68.2->langchain_openai) (0.10.0)\n",
      "Requirement already satisfied: sniffio in c:\\users\\kanda\\anaconda3\\envs\\firstvenv\\lib\\site-packages (from openai<2.0.0,>=1.68.2->langchain_openai) (1.3.1)\n",
      "Requirement already satisfied: tqdm>4 in c:\\users\\kanda\\anaconda3\\envs\\firstvenv\\lib\\site-packages (from openai<2.0.0,>=1.68.2->langchain_openai) (4.67.1)\n",
      "Requirement already satisfied: python-dotenv>=0.21.0 in c:\\users\\kanda\\anaconda3\\envs\\firstvenv\\lib\\site-packages (from pydantic-settings<3.0.0,>=2.4.0->langchain_community) (1.1.0)\n",
      "Requirement already satisfied: typing-inspection>=0.4.0 in c:\\users\\kanda\\anaconda3\\envs\\firstvenv\\lib\\site-packages (from pydantic-settings<3.0.0,>=2.4.0->langchain_community) (0.4.1)\n",
      "Requirement already satisfied: charset-normalizer<4,>=2 in c:\\users\\kanda\\anaconda3\\envs\\firstvenv\\lib\\site-packages (from requests<3,>=2->langchain_community) (3.4.2)\n",
      "Requirement already satisfied: idna<4,>=2.5 in c:\\users\\kanda\\anaconda3\\envs\\firstvenv\\lib\\site-packages (from requests<3,>=2->langchain_community) (3.10)\n",
      "Requirement already satisfied: urllib3<3,>=1.21.1 in c:\\users\\kanda\\anaconda3\\envs\\firstvenv\\lib\\site-packages (from requests<3,>=2->langchain_community) (2.4.0)\n",
      "Requirement already satisfied: certifi>=2017.4.17 in c:\\users\\kanda\\anaconda3\\envs\\firstvenv\\lib\\site-packages (from requests<3,>=2->langchain_community) (2025.4.26)\n",
      "Requirement already satisfied: greenlet>=1 in c:\\users\\kanda\\anaconda3\\envs\\firstvenv\\lib\\site-packages (from SQLAlchemy<3,>=1.4->langchain_community) (3.2.2)\n",
      "Requirement already satisfied: regex>=2022.1.18 in c:\\users\\kanda\\anaconda3\\envs\\firstvenv\\lib\\site-packages (from tiktoken<1,>=0.7->langchain_openai) (2024.11.6)\n",
      "Requirement already satisfied: httpcore==1.* in c:\\users\\kanda\\anaconda3\\envs\\firstvenv\\lib\\site-packages (from httpx<1,>=0.23.0->langsmith<0.4,>=0.1.125->langchain_community) (1.0.9)\n",
      "Requirement already satisfied: h11>=0.16 in c:\\users\\kanda\\anaconda3\\envs\\firstvenv\\lib\\site-packages (from httpcore==1.*->httpx<1,>=0.23.0->langsmith<0.4,>=0.1.125->langchain_community) (0.16.0)\n",
      "Requirement already satisfied: jsonpointer>=1.9 in c:\\users\\kanda\\anaconda3\\envs\\firstvenv\\lib\\site-packages (from jsonpatch<2.0,>=1.33->langchain-core<1.0.0,>=0.3.51->langchain_text_splitters) (3.0.0)\n",
      "Requirement already satisfied: annotated-types>=0.6.0 in c:\\users\\kanda\\anaconda3\\envs\\firstvenv\\lib\\site-packages (from pydantic<3.0.0,>=2.7.4->langchain<1.0.0,>=0.3.25->langchain_community) (0.7.0)\n",
      "Requirement already satisfied: pydantic-core==2.33.2 in c:\\users\\kanda\\anaconda3\\envs\\firstvenv\\lib\\site-packages (from pydantic<3.0.0,>=2.7.4->langchain<1.0.0,>=0.3.25->langchain_community) (2.33.2)\n",
      "Requirement already satisfied: colorama in c:\\users\\kanda\\anaconda3\\envs\\firstvenv\\lib\\site-packages (from tqdm>4->openai<2.0.0,>=1.68.2->langchain_openai) (0.4.6)\n",
      "Requirement already satisfied: mypy-extensions>=0.3.0 in c:\\users\\kanda\\anaconda3\\envs\\firstvenv\\lib\\site-packages (from typing-inspect<1,>=0.4.0->dataclasses-json<0.7,>=0.5.7->langchain_community) (1.1.0)\n"
     ]
    }
   ],
   "source": [
    "! pip3 install langchain_text_splitters langchain_community langchain_openai pymupdf faiss-cpu"
   ]
  },
  {
   "cell_type": "code",
   "execution_count": 12,
   "id": "cf633c84",
   "metadata": {},
   "outputs": [],
   "source": [
    "from langchain_text_splitters import RecursiveCharacterTextSplitter\n",
    "from langchain_community.document_loaders import PyMuPDFLoader\n",
    "from langchain_community.vectorstores import FAISS\n",
    "from langchain_core.output_parsers import StrOutputParser\n",
    "from langchain_core.runnables import RunnablePassthrough\n",
    "from langchain_core.prompts import PromptTemplate\n",
    "from langchain_openai import ChatOpenAI, OpenAIEmbeddings"
   ]
  },
  {
   "cell_type": "code",
   "execution_count": 13,
   "id": "6bddb24f",
   "metadata": {},
   "outputs": [
    {
     "name": "stdout",
     "output_type": "stream",
     "text": [
      "문서의 페이지수: 18\n"
     ]
    }
   ],
   "source": [
    "# 단계 1: 문서 로드(Load Documents)\n",
    "loader = PyMuPDFLoader(\"./예제파일.pdf\")\n",
    "docs = loader.load()\n",
    "print(f\"문서의 페이지수: {len(docs)}\")"
   ]
  },
  {
   "cell_type": "code",
   "execution_count": 14,
   "id": "e2f6c289",
   "metadata": {},
   "outputs": [
    {
     "name": "stdout",
     "output_type": "stream",
     "text": [
      "분할된 청크의수: 32\n"
     ]
    }
   ],
   "source": [
    "# 단계 2: 문서 분할(Split Documents)\n",
    "text_splitter = RecursiveCharacterTextSplitter(chunk_size=1000, chunk_overlap=50)\n",
    "split_documents = text_splitter.split_documents(docs)\n",
    "print(f\"분할된 청크의수: {len(split_documents)}\")"
   ]
  },
  {
   "cell_type": "code",
   "execution_count": 15,
   "id": "c7555795",
   "metadata": {},
   "outputs": [],
   "source": [
    "# 단계 3: 임베딩(Embedding) 생성\n",
    "embeddings = OpenAIEmbeddings()"
   ]
  },
  {
   "cell_type": "code",
   "execution_count": 16,
   "id": "3ac58821",
   "metadata": {},
   "outputs": [],
   "source": [
    "# 단계 4: DB 생성(Create DB) 및 저장\n",
    "# 벡터스토어를 생성합니다.\n",
    "vectorstore = FAISS.from_documents(documents=split_documents, embedding=embeddings)"
   ]
  },
  {
   "cell_type": "code",
   "execution_count": 17,
   "id": "4be2b432",
   "metadata": {},
   "outputs": [],
   "source": [
    "# 단계 5: 검색기(Retriever) 생성\n",
    "# 문서에 포함되어 있는 정보를 검색하고 생성합니다.\n",
    "retriever = vectorstore.as_retriever()"
   ]
  },
  {
   "cell_type": "code",
   "execution_count": 18,
   "id": "3d8ec0c8",
   "metadata": {},
   "outputs": [
    {
     "data": {
      "text/plain": [
       "[Document(id='bd02d360-d755-4d88-a939-deeec379d472', metadata={'producer': 'Skia/PDF m131', 'creator': 'Mozilla/5.0 (Macintosh; Intel Mac OS X 10_15_7) AppleWebKit/537.36 (KHTML, like Gecko) Chrome/131.0.0.0 Safari/537.36', 'creationdate': '2024-11-23T02:51:56+00:00', 'source': './예제파일.pdf', 'file_path': './예제파일.pdf', 'total_pages': 18, 'format': 'PDF 1.4', 'title': '리그 오브 레전드 월드 챔피언십 - 나무위키', 'author': '', 'subject': '', 'keywords': '', 'moddate': '2024-11-23T02:51:56+00:00', 'trapped': '', 'modDate': \"D:20241123025156+00'00'\", 'creationDate': \"D:20241123025156+00'00'\", 'page': 3}, page_content='이름으로 내주는 우승 스킨 시스템과 어마무시한 상금에서도 나오는데, 일단 스킨은 리그 오브 레전드라는 게임에서 우승한\\n선수와 팀의 이름이 영원히 기록된다는 상징적인 의미가 있으며 \\'게임에 자신의 이름으로 된 스킨\\'이 나오는 것과 \\'자신을 상징\\n하는 챔피언\\'이 생기는 것만으로도 엄청난 명예가 되기에 선수들에게 동기부여를 해주는 어마무시한 원동력이 된다.[10] 이런\\n높은 위상으로 인해 진출이라도 한 번 했다는 것만으로도 선수나 팀의 위상도 크게 달라진다.\\n다음으로는 상금 규모가 있는데, 본래 2015년까지 도타 2의 상금 크라우드 펀딩 시스템을 \"우리는 상금을 유저들에게 구걸하\\n지 않는다\"[11]라는 망언까지 하며 까내리며 크라우드 펀딩을 하지 않았으나 2016 시즌부터 언제 그랬냐는 듯 상금을 유저에\\n게 구걸하는 크라우드 펀딩 시스템을 도입하여 매년 월즈 기간에 맞춰 챔피언십 스킨을 출시한 뒤 해당 스킨 판매 수익의 일부\\n를 상금에 보태고 있다. 말하는 게 앞뒤가 다르다고 안 좋게 보는 여론이 있긴 했지만, 어쨌든 이 덕에 상금 규모가 천정부지로\\n뛰어올라 당장 지역 리그 우승 금액과 최대 20~30배가 넘게 차이가 나는[12] 수준의 어마어마한 상금 규모를 자랑하면서 우\\n승을 향한 선수들의 간절함이 증폭되고 월드 챔피언십이 더욱 흥미진진해지게 되었다. 즉 \\'리그의 권위는 상금의 규모에서 나\\n온다\\'는 말에 맞게 LoL e스포츠는 이때부터 이전에 비해 더더욱 모든 것이 월드 챔피언십을 위주로 돌아가게 된 것이다.[13]\\n이 덕분에 팀과 선수들의 커리어를 비교할 때도 가장 중요하게 작용해서 그 시즌에 리그 우승, 심지어 MSI 우승이 없어도 사\\n실상 월즈만 우승하면 그 시즌의 최종 주인공이 되는 느낌이 강하고, 반대로 리그를 여러 번 우승했어도 월즈를 우승하지 못했\\n을 경우 역대 최고 라인에 껴주지 않거나 실력이 아무리 뛰어났던 팀과 선수여도 저평가되거나 마지막 퍼즐을 맞추지 못했다'),\n",
       " Document(id='426d4991-282a-41b7-ba2c-262bd7b5ac1d', metadata={'producer': 'Skia/PDF m131', 'creator': 'Mozilla/5.0 (Macintosh; Intel Mac OS X 10_15_7) AppleWebKit/537.36 (KHTML, like Gecko) Chrome/131.0.0.0 Safari/537.36', 'creationdate': '2024-11-23T02:51:56+00:00', 'source': './예제파일.pdf', 'file_path': './예제파일.pdf', 'total_pages': 18, 'format': 'PDF 1.4', 'title': '리그 오브 레전드 월드 챔피언십 - 나무위키', 'author': '', 'subject': '', 'keywords': '', 'moddate': '2024-11-23T02:51:56+00:00', 'trapped': '', 'modDate': \"D:20241123025156+00'00'\", 'creationDate': \"D:20241123025156+00'00'\", 'page': 15}, page_content='펀딩 시스템이 굉장히 영리하고 잘 만든 시스템이라고 생각하고 있다\"라며 \"구걸이라는 단어를 말한 라이엇 게임즈 직원은 없\\n을 것\"이라고 주장했고, \"잘못 보도된 기사의 원문을 보고 싶고, 만약 라이엇 게임즈에서 누군가 그러한 말을 내뱉었다면 징계\\n를 가했을 것\"이라고 밝혔다. 해당 라이엇 관계자인 제이슨 예(Jason Yeh)는 인터뷰에서 구걸(Begging)이란 단어를 쓴 적\\n이 없는 것으로 재차 확인했다며 논란은 일단락되었다. \\uf22e#\\n[12] 한 예로 2018 시즌 LCK 우승 금액은 1억 원이었는데, 그 해 월즈 우승 금액은 240만 달러(약 26~27억 원)로 26배가\\n넘는 차이가 났다.\\n[13] 이전에도 월즈가 끝판왕급 대회인 건 맞았으나 2016년 대회부터 이러한 기조가 더더욱 강화되었다고 보면 된다.\\n[14] 한 예로 2020 LCS 스프링의 경우 월즈 시드 선발에 영향을 주지 않는다는 발표가 나오자 중요도가 바닥으로 떨어졌고\\n더블리프트를 위시한 유명 선수들이 스프링 시즌은 별로 열심히 하고 싶지 않고 동기부여도 잘 이뤄지지 않는다고 대놓고 말\\n할 정도였으며, 타 리그 역시 스프링보다는 서머를 더 중시하는 경향이 강하다. 서머 최종 성적이 월즈 선발전을 겸하는 LCS\\n와 LEC를 제외해도 LCK와 LPL 역시 서머 우승팀은 월즈에 직행하며, 선발전 포인트 역시 서머에 더 가중치를 부여한다. 이\\n러다 보니 지역 리그 우승은 무관 탈출이란 의미 정도만 가지며 지역 리그 자체는 사실상 월즈 직행 시드나 선발전 시드를 결\\n정하기 위해, 혹은 또 다른 국제 대회인 MSI 역시 개인적으로 봤을 때나 국제전 우승 커리어 추가 정도이지 사실상 월즈 시드\\n한 장을 추가하기 위해 존재하는 것이라 봐도 무방할 정도. 이에 오죽하면 월즈만 진출하면 본전은 뽑은 시즌, 월즈 우승만 하\\n면 올해의 주인공이라는 말도 있을 정도이다. 가장 좋은 예시가 2022년의 DRX로, 스프링 5위, 서머 6위, MSI는 진출도 못하'),\n",
       " Document(id='052c0626-32e8-488c-b58c-651df5976777', metadata={'producer': 'Skia/PDF m131', 'creator': 'Mozilla/5.0 (Macintosh; Intel Mac OS X 10_15_7) AppleWebKit/537.36 (KHTML, like Gecko) Chrome/131.0.0.0 Safari/537.36', 'creationdate': '2024-11-23T02:51:56+00:00', 'source': './예제파일.pdf', 'file_path': './예제파일.pdf', 'total_pages': 18, 'format': 'PDF 1.4', 'title': '리그 오브 레전드 월드 챔피언십 - 나무위키', 'author': '', 'subject': '', 'keywords': '', 'moddate': '2024-11-23T02:51:56+00:00', 'trapped': '', 'modDate': \"D:20241123025156+00'00'\", 'creationDate': \"D:20241123025156+00'00'\", 'page': 11}, page_content='2019 시\\n즌\\n판테온(100%/-)\\n키아나(92.2%/53.3%)\\nX\\n2020 시\\n즌\\n루시안(93.4%/54.\\n5%)\\n그레이브즈(92.1%/44.2%)\\n오른(90.8%/48.3%)\\n2021 시\\n즌\\n리 신(98.8%/59.5%)\\n유미, 트위스티드 페이트(96.4%/53.3%,\\n54.2%)\\nX\\n2022 시\\n즌\\n아트록스(100%/54.\\n5%)\\n유미(95%/100%)\\n세주아니(90%/53.3%)\\n2023 시\\n즌\\n오리아나(94.9%/55.\\n9%)\\nX\\nX\\n2024 시\\n즌\\n오로라(9X.X%/XX.\\nX%)\\n요네 (9X.X%/XX.X%)\\nX\\n월즈에서 두 번 이상 밴픽률 TOP 3 안에 모두 들어가는 챔피언은 알리스타, 리 신, 아트록스, 유미, 세주아니이다. 또한 이즈\\n리얼(TPA), 제드, 엘리스, 신드라, 자르반 4세(SSG)가 밴픽률 TOP 3 안에 속했을 당시 시즌에 우승 스킨을 보유하고 있으며\\n표와 마찬가지로 누누, 쉔, 알리스타, 리 신, 갱플랭크, 니달리, 칼리스타, 잔나는 밴픽률 TOP 3에 속한 시즌이 아닌 다른 시즌\\n의 우승 스킨을 보유한 챔피언으로 기록되었다.\\n2015 시즌에 갱플랭크와 모데카이저는 승률 100%를 기록하며 월즈 OP 자리를 양분했고 8강 FNC와 EDG에 경기에서 두\\n챔피언이 모두 풀려 한 쪽의 100%가 깨지나 싶었지만 경기 중 그라가스의 술통이 사라지는 오류가 생기면서 취소 경기가 돼\\n버려 두 챔피언의 100% 승률은 지켜지게 되었다.\\n2017 시즌에는 위에 나온 칼리스타, 세주아니/자르반 4세, 잔나 외에도 룰루가 밴픽률 93.8% 승률 40.4%를 기록했고 갈리\\n오가 밴픽률 91.3% 승률 66.7%를 기록했다. 이 때문에 2017 시즌은 역대 월챔 중 밴픽률 90%가 넘는 챔피언이 6개로 가\\n장 많은 시즌이다.\\n시즌 2에는 밴픽률이 90%를 넘지는 않았지만 시비르(12밴)와 드레이븐(8밴)처럼 픽없이 밴만 당한 사례도 있었으며, 2017'),\n",
       " Document(id='862e6d6e-be6a-4458-b67f-52df46d58f87', metadata={'producer': 'Skia/PDF m131', 'creator': 'Mozilla/5.0 (Macintosh; Intel Mac OS X 10_15_7) AppleWebKit/537.36 (KHTML, like Gecko) Chrome/131.0.0.0 Safari/537.36', 'creationdate': '2024-11-23T02:51:56+00:00', 'source': './예제파일.pdf', 'file_path': './예제파일.pdf', 'total_pages': 18, 'format': 'PDF 1.4', 'title': '리그 오브 레전드 월드 챔피언십 - 나무위키', 'author': '', 'subject': '', 'keywords': '', 'moddate': '2024-11-23T02:51:56+00:00', 'trapped': '', 'modDate': \"D:20241123025156+00'00'\", 'creationDate': \"D:20241123025156+00'00'\", 'page': 12}, page_content='2022 시즌에는 아트록스가 밴픽률 100%를 오랜만에 달성한 데다 최종적으로 스킨 대상으로 지목된 점에서 알 수 있듯 월식\\n기용으로 탑 탱커, 근접 브루저 메타에서 강한 영향력을 행사하였고, 회복량이 너프되긴 했지만 코어 아이템을 추가할수록 막\\n강한 중후반 캐리력을 보여주며 메타를 지배했다. 유미가 8전 8승으로 그야말로 압도적인 전적을 보여주었다. 심지어 유미가\\n루덴의 메아리를 올려 1 AP 전략으로도 승리할 정도로 막강한 성능을 뽐냈다. 이에 DRX의 서포터 베릴은 아예 유미를 삭제해\\n야 한다고 말하며 유미가 전체적인 밴픽 밸런스를 망가지게 만들었다고 비판하였다. \\uf22e# 세주아니는 궁극기를 활용한 갱킹,\\n대치, 한타 구도의 변수 창출은 물론 유틸폿 메타기에 탱커가 필요한 팀들이 무난하게 가져가기 좋은 픽이라 많은 선택을 받았\\n다.\\n2023 시즌은 럼자오자레로 대표되는, 강력한 라인전과 한타를 뽐낼 수 있는 상체 조합과 무난히 갔을 때 중후반 한타를 캐리\\n할 수 있는 바텀 조합이 유행하였다. 또한 라인 별로 OP로 취급되는 챔피언 수가 상당히 많았다.[50][51] 대회 초중반부에는 대\\n부분의 팀이 안정적인 후반 바텀 캐리 게임을 선호하며 이 부분의 최고봉으로 꼽히던 자야가 기형적인 승률과 함께 가장 OP\\n로 취급받았고, 실제로 성적이 좋았으나[52] 대회가 진행되며 일부 팀이 파훼법을 들고 오며 승률과 밴율이 감소, 밴픽률 90%\\n이상 표에 들지 못하였다. 대신 누적된 버프의 영향으로[53] 오리아나가 니코를 제외하면 라인전 체급과 한타 단계에서의 체급\\n이 다른 미드 챔피언과 견주기 힘든 픽이라는 것이 계속 조명되며 플레이-인과 본선에서 모두 밴픽률이 90% 이상인 무난한\\n선픽감의 OP 챔피언으로 남게 되었다. 또한 이렇게 캐리력이 높지만 뚜벅이인 미드-원딜 픽의 티어가 상승하면서 당 패치 기\\n준 성능이 좋으면서 뚜벅이를 카운터 치기 좋았던 럼블과 자르반 4세 역시 OP에 준하는 취급을 받을 수 있었다. 이렇게 OP')]"
      ]
     },
     "execution_count": 18,
     "metadata": {},
     "output_type": "execute_result"
    }
   ],
   "source": [
    "# 검색기에 쿼리를 날려 검색된 chunk 결과를 확인합니다.\n",
    "retriever.invoke(\"본래 2015년까지 도타 2의 상금 크라우드 펀딩 시스템\")"
   ]
  },
  {
   "cell_type": "code",
   "execution_count": 19,
   "id": "e4f8ec13",
   "metadata": {},
   "outputs": [],
   "source": [
    "# 단계 6: 프롬프트 생성(Create Prompt)\n",
    "# 프롬프트를 생성합니다.\n",
    "prompt = PromptTemplate.from_template(\n",
    "    \"\"\"You are an assistant for question-answering tasks. \n",
    "Use the following pieces of retrieved context to answer the question. \n",
    "If you don't know the answer, just say that you don't know. \n",
    "Answer in Korean.\n",
    "\n",
    "#Question: \n",
    "{question} \n",
    "#Context: \n",
    "{context} \n",
    "\n",
    "#Answer:\"\"\"\n",
    ")"
   ]
  },
  {
   "cell_type": "code",
   "execution_count": null,
   "id": "bd229b05",
   "metadata": {},
   "outputs": [],
   "source": [
    "# 단계 7: 언어모델(LLM) 생성\n",
    "# 모델(LLM) 을 생성합니다.\n",
    "llm = ChatOpenAI(model_name=\"gpt-4o-mini\", temperature=0)"
   ]
  },
  {
   "cell_type": "code",
   "execution_count": 21,
   "id": "e7e19127",
   "metadata": {},
   "outputs": [],
   "source": [
    "# 단계 8: 체인(Chain) 생성\n",
    "chain = (\n",
    "    {\"context\": retriever, \"question\": RunnablePassthrough()}\n",
    "    | prompt\n",
    "    | llm\n",
    "    | StrOutputParser()\n",
    ")"
   ]
  },
  {
   "cell_type": "code",
   "execution_count": 30,
   "id": "2c4a8d8f",
   "metadata": {},
   "outputs": [
    {
     "name": "stdout",
     "output_type": "stream",
     "text": [
      "체인 답변: 월즈를 지배한 OP 챔피언으로는 시즌 1의 누누, 시즌 2의 이즈리얼, 시즌 3의 제드, 시즌 4의 알리스타, 시즌 5의 갱플랭크와 모데카이저, 시즌 6의 니달리, 시즌 7의 칼리스타 등이 있습니다.\n"
     ]
    }
   ],
   "source": [
    "# 체인 실행(Run Chain)\n",
    "# 문서에 대한 질의를 입력하고, 답변을 출력합니다.\n",
    "question = \"월즈를 지배한 OP챔피언은 뭐가 있어?\"  # 질문은 변경될 수 있음\n",
    "response = chain.invoke(question)\n",
    "\n",
    "# 출력 결과가 '모르겠어요.'인지 확인\n",
    "if any(keyword in response.strip() for keyword in [\"모르겠어요\" , \"없습니다\", \"제공된 문서에 포함되어 있지 않습니다\"]):\n",
    "    print(\"문서에서 답변을 찾을 수 없습니다. ChatGPT에 질문을 전달합니다...\")\n",
    "\n",
    "    # ChatGPT 모델 호출\n",
    "    from langchain_openai import ChatOpenAI\n",
    "    llm_chatgpt = ChatOpenAI(model_name=\"gpt-4o\", temperature=0)\n",
    "\n",
    "    # ChatGPT에 질문 전달\n",
    "    chatgpt_response = llm_chatgpt.invoke(question)\n",
    "    print(f\"ChatGPT 답변: {chatgpt_response}\")\n",
    "else:\n",
    "    # 문서에서 답변이 있는 경우\n",
    "    print(f\"체인 답변: {response}\")"
   ]
  }
 ],
 "metadata": {
  "kernelspec": {
   "display_name": "firstvenv",
   "language": "python",
   "name": "python3"
  },
  "language_info": {
   "codemirror_mode": {
    "name": "ipython",
    "version": 3
   },
   "file_extension": ".py",
   "mimetype": "text/x-python",
   "name": "python",
   "nbconvert_exporter": "python",
   "pygments_lexer": "ipython3",
   "version": "3.13.2"
  }
 },
 "nbformat": 4,
 "nbformat_minor": 5
}
